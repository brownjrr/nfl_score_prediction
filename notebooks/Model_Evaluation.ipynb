{
 "cells": [
  {
   "cell_type": "markdown",
   "metadata": {},
   "source": [
    "# Code Overview\n",
    "We'll try and explain what we can here..."
   ]
  },
  {
   "cell_type": "code",
   "execution_count": 1,
   "metadata": {},
   "outputs": [],
   "source": [
    "import pandas as pd\n",
    "import seaborn as sns\n",
    "import shap\n",
    "import pickle"
   ]
  },
  {
   "cell_type": "code",
   "execution_count": 12,
   "metadata": {},
   "outputs": [
    {
     "name": "stdout",
     "output_type": "stream",
     "text": [
      "14 columns in test set. No unnamed column\n"
     ]
    }
   ],
   "source": [
    "with open('../data/model/ridge_position_stats.pkl', 'rb') as f:\n",
    "    model_ridge_stats = pickle.load(f)\n",
    "\n",
    "ridge_x_test = pd.read_csv('../data/intermediate/model_ridge__position__x_test.csv')\n",
    "#ridge_train_stats = pd.read_csv('../data/output/ridge_position_stats.csv')\n",
    "\n",
    "with open('../data/model/gradient_boosted_model.pkl', 'rb') as f:\n",
    "    model_gbr = pickle.load(f)\n",
    "\n",
    "reg_x_test = pd.read_csv('../data/intermediate/x_test.csv')\n",
    "\n",
    "with open('../data/model/random_forest_model.pkl', 'rb') as f:\n",
    "    model_rfr = pickle.load(f)\n",
    "\n",
    "try:\n",
    "    ridge_x_test.drop(columns=['Unnamed: 0'], inplace=True)\n",
    "    #reg_x_test.drop(columns=['Unnamed: 0'], inplace=True)\n",
    "except KeyError:\n",
    "    print(f'{len(ridge_x_test)[1]} columns in test set. No unnamed column')\n",
    "except Exception as e:\n",
    "    print(f'Some other error: {e}')\n",
    "    pass\n",
    "    \n",
    "\n",
    "try:\n",
    "    reg_x_test.drop(columns=['Unnamed: 0'], inplace=True)\n",
    "except KeyError:\n",
    "    print(f'{reg_x_test.shape[1]} columns in test set. No \"Unnamed: 0\" column')\n",
    "except Exception as e:\n",
    "    print(f'Some other error: {e}')\n",
    "    pass"
   ]
  },
  {
   "cell_type": "markdown",
   "metadata": {},
   "source": [
    "# Ridge Regression Explanation\n",
    "## Explaining Weights for the Player Stats\n",
    "\n",
    "The player ranking alogorithm is made up of reading in all the different stats that are recorded in `PlayerStats`. This is fit using the years 2013-2014 (inclusive). In doing so, we are able to able to generate weights appropriate to then rank players afterwards.\n",
    "\n",
    "By exposing the test and training data, we can better understand how the model views different features of importance through the use of `SHAP`.\n",
    "\n",
    "We'll first read in the model via `shap.LinearExplainer`. "
   ]
  },
  {
   "cell_type": "code",
   "execution_count": 3,
   "metadata": {},
   "outputs": [
    {
     "ename": "ValueError",
     "evalue": "shapes (73,) and (74,) not aligned: 73 (dim 0) != 74 (dim 0)",
     "output_type": "error",
     "traceback": [
      "\u001b[0;31m---------------------------------------------------------------------------\u001b[0m",
      "\u001b[0;31mValueError\u001b[0m                                Traceback (most recent call last)",
      "Cell \u001b[0;32mIn[3], line 1\u001b[0m\n\u001b[0;32m----> 1\u001b[0m explainer \u001b[38;5;241m=\u001b[39m \u001b[43mshap\u001b[49m\u001b[38;5;241;43m.\u001b[39;49m\u001b[43mLinearExplainer\u001b[49m\u001b[43m(\u001b[49m\u001b[43mmodel_ridge_stats\u001b[49m\u001b[43m,\u001b[49m\u001b[43m \u001b[49m\u001b[43mridge_x_test\u001b[49m\u001b[43m)\u001b[49m\n\u001b[1;32m      2\u001b[0m \u001b[38;5;66;03m#shap_values = explainer.shap_values(gbr_x_test[selected_data])\u001b[39;00m\n",
      "File \u001b[0;32m~/miniforge3/envs/nfl-score-prediction/lib/python3.11/site-packages/shap/explainers/_linear.py:183\u001b[0m, in \u001b[0;36mLinearExplainer.__init__\u001b[0;34m(self, model, masker, link, nsamples, feature_perturbation, **kwargs)\u001b[0m\n\u001b[1;32m    181\u001b[0m         \u001b[38;5;28mself\u001b[39m\u001b[38;5;241m.\u001b[39mexpected_value \u001b[38;5;241m=\u001b[39m np\u001b[38;5;241m.\u001b[39marray(\u001b[38;5;28mself\u001b[39m\u001b[38;5;241m.\u001b[39mexpected_value)[\u001b[38;5;241m0\u001b[39m]\n\u001b[1;32m    182\u001b[0m \u001b[38;5;28;01melse\u001b[39;00m:\n\u001b[0;32m--> 183\u001b[0m     \u001b[38;5;28mself\u001b[39m\u001b[38;5;241m.\u001b[39mexpected_value \u001b[38;5;241m=\u001b[39m \u001b[43mnp\u001b[49m\u001b[38;5;241;43m.\u001b[39;49m\u001b[43mdot\u001b[49m\u001b[43m(\u001b[49m\u001b[38;5;28;43mself\u001b[39;49m\u001b[38;5;241;43m.\u001b[39;49m\u001b[43mcoef\u001b[49m\u001b[43m,\u001b[49m\u001b[43m \u001b[49m\u001b[38;5;28;43mself\u001b[39;49m\u001b[38;5;241;43m.\u001b[39;49m\u001b[43mmean\u001b[49m\u001b[43m)\u001b[49m \u001b[38;5;241m+\u001b[39m \u001b[38;5;28mself\u001b[39m\u001b[38;5;241m.\u001b[39mintercept\n\u001b[1;32m    185\u001b[0m \u001b[38;5;28mself\u001b[39m\u001b[38;5;241m.\u001b[39mM \u001b[38;5;241m=\u001b[39m \u001b[38;5;28mlen\u001b[39m(\u001b[38;5;28mself\u001b[39m\u001b[38;5;241m.\u001b[39mmean)\n\u001b[1;32m    187\u001b[0m \u001b[38;5;66;03m# if needed, estimate the transform matrices\u001b[39;00m\n",
      "\u001b[0;31mValueError\u001b[0m: shapes (73,) and (74,) not aligned: 73 (dim 0) != 74 (dim 0)"
     ]
    }
   ],
   "source": [
    "explainer = shap.LinearExplainer(model_ridge_stats, ridge_x_test.drop(columns))\n",
    "#shap_values = explainer.shap_values(gbr_x_test[selected_data])"
   ]
  },
  {
   "cell_type": "code",
   "execution_count": 11,
   "metadata": {},
   "outputs": [
    {
     "data": {
      "text/plain": [
       "(132, 73)"
      ]
     },
     "execution_count": 11,
     "metadata": {},
     "output_type": "execute_result"
    }
   ],
   "source": [
    "ridge_x_test.shape"
   ]
  },
  {
   "cell_type": "code",
   "execution_count": null,
   "metadata": {},
   "outputs": [],
   "source": []
  }
 ],
 "metadata": {
  "kernelspec": {
   "display_name": "nfl-score-prediction",
   "language": "python",
   "name": "python3"
  },
  "language_info": {
   "codemirror_mode": {
    "name": "ipython",
    "version": 3
   },
   "file_extension": ".py",
   "mimetype": "text/x-python",
   "name": "python",
   "nbconvert_exporter": "python",
   "pygments_lexer": "ipython3",
   "version": "3.11.10"
  }
 },
 "nbformat": 4,
 "nbformat_minor": 2
}
