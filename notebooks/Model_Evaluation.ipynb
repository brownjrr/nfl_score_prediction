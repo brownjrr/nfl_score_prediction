{
 "cells": [
  {
   "cell_type": "markdown",
   "metadata": {},
   "source": [
    "# Code Overview\n",
    "We'll try and explain what we can here..."
   ]
  },
  {
   "cell_type": "code",
   "execution_count": 8,
   "metadata": {},
   "outputs": [],
   "source": [
    "import pandas as pd\n",
    "import seaborn as sns\n",
    "import shap\n",
    "import pickle"
   ]
  },
  {
   "cell_type": "code",
   "execution_count": 25,
   "metadata": {},
   "outputs": [],
   "source": [
    "with open('../data/model/ridge_position_stats.pkl', 'rb') as f:\n",
    "    model_ridge_stats = pickle.load(f)\n",
    "\n",
    "ridge_train_stats = pd.read_csv('../data/output/ridge_position_stats.csv')\n",
    "\n",
    "with open('../data/model/gradient_boosted_model.pkl', 'rb') as f:\n",
    "    model_gbr = pickle.load(f)\n",
    "\n",
    "gbr_x_test = pd.read_csv('../data/intermediate/x_test.csv')"
   ]
  },
  {
   "cell_type": "code",
   "execution_count": 27,
   "metadata": {},
   "outputs": [
    {
     "name": "stdout",
     "output_type": "stream",
     "text": [
      "range(0, 525)\n"
     ]
    }
   ],
   "source": [
    "selected_data = range(len(ridge_train_stats))\n",
    "background_data = shap.sample(ridge_train_stats, nsamples=100)\n",
    "print(selected_data)"
   ]
  },
  {
   "cell_type": "code",
   "execution_count": 30,
   "metadata": {},
   "outputs": [],
   "source": [
    "explainer = shap.LinearExplainer(model_ridge_stats, background_data)\n",
    "#shap_values = explainer.shap_values(gbr_x_test[selected_data])"
   ]
  },
  {
   "cell_type": "code",
   "execution_count": null,
   "metadata": {},
   "outputs": [],
   "source": [
    "shap_test "
   ]
  }
 ],
 "metadata": {
  "kernelspec": {
   "display_name": "nfl-score-prediction",
   "language": "python",
   "name": "python3"
  },
  "language_info": {
   "codemirror_mode": {
    "name": "ipython",
    "version": 3
   },
   "file_extension": ".py",
   "mimetype": "text/x-python",
   "name": "python",
   "nbconvert_exporter": "python",
   "pygments_lexer": "ipython3",
   "version": "3.11.10"
  }
 },
 "nbformat": 4,
 "nbformat_minor": 2
}
