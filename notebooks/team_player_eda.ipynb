{
 "cells": [
  {
   "cell_type": "code",
   "execution_count": 2,
   "id": "af276c49-59ba-4a8c-afd2-3395affe659f",
   "metadata": {},
   "outputs": [],
   "source": [
    "import pandas as pd\n",
    "import matplotlib.pyplot as plt\n",
    "import seaborn as sns"
   ]
  },
  {
   "cell_type": "code",
   "execution_count": 111,
   "id": "dab7c3bf-92d1-4ed0-b581-621ad69a1ed0",
   "metadata": {},
   "outputs": [],
   "source": [
    "# Join together the additional teams data\n",
    "teams_df = pd.read_csv(\"../data/raw_teams.csv\")\n",
    "tmp_teams_ads = pd.read_csv(\"../data/raw_teams_ads.csv\")"
   ]
  },
  {
   "cell_type": "code",
   "execution_count": 132,
   "id": "3849350d-4204-4429-8095-53055b6e08d0",
   "metadata": {},
   "outputs": [],
   "source": [
    "# Use a set to find the differences\n",
    "teams_df_cols = set(teams_df.columns)\n",
    "tmp_teams_cols = set(tmp_teams_ads.columns)\n",
    "new_cols = list(tmp_teams_cols - teams_df_cols)\n",
    "\n",
    "key_cols = ['key_col']\n",
    "\n",
    "# Add in a unique column\n",
    "teams_df['key_col'] = teams_df['year'].astype(str) + \"_\" + teams_df['team_id'] + \"_\" + teams_df['Week']\n",
    "tmp_teams_ads['key_col'] = teams_df['year'].astype(str) + \"_\" + teams_df['team_id'] + \"_\" + teams_df['Week']\n",
    "\n",
    "# Join the two together\n",
    "teams_df = pd.merge(left=teams_df,\n",
    "                    right=tmp_teams_ads[key_cols + new_cols],\n",
    "                    how='left',\n",
    "                    left_on='key_col',\n",
    "                    right_on='key_col'\n",
    "                   )"
   ]
  },
  {
   "cell_type": "code",
   "execution_count": 133,
   "id": "91c0e16d-8be9-425f-88ea-021041e9d703",
   "metadata": {},
   "outputs": [],
   "source": [
    "# We'll drop a few different columns at the beginning to clean up our dataset\n",
    "drop_cols = [0, 1]\n",
    "teams_df = teams_df.drop(teams_df.columns[drop_cols], axis=1)"
   ]
  },
  {
   "cell_type": "code",
   "execution_count": 134,
   "id": "138ecfd3-59a8-4715-b449-639220d4c1f1",
   "metadata": {},
   "outputs": [
    {
     "data": {
      "text/html": [
       "<div>\n",
       "<style scoped>\n",
       "    .dataframe tbody tr th:only-of-type {\n",
       "        vertical-align: middle;\n",
       "    }\n",
       "\n",
       "    .dataframe tbody tr th {\n",
       "        vertical-align: top;\n",
       "    }\n",
       "\n",
       "    .dataframe thead th {\n",
       "        text-align: right;\n",
       "    }\n",
       "</style>\n",
       "<table border=\"1\" class=\"dataframe\">\n",
       "  <thead>\n",
       "    <tr style=\"text-align: right;\">\n",
       "      <th></th>\n",
       "      <th>week</th>\n",
       "      <th>day</th>\n",
       "      <th>date</th>\n",
       "      <th>time</th>\n",
       "      <th>result</th>\n",
       "      <th>OT</th>\n",
       "      <th>rec</th>\n",
       "      <th>away</th>\n",
       "      <th>opp</th>\n",
       "      <th>score_team</th>\n",
       "      <th>...</th>\n",
       "      <th>won_toss_overtime</th>\n",
       "      <th>humidity_pct</th>\n",
       "      <th>surface_type</th>\n",
       "      <th>team_abbr</th>\n",
       "      <th>team_spread</th>\n",
       "      <th>wind_speed</th>\n",
       "      <th>temperature</th>\n",
       "      <th>duration</th>\n",
       "      <th>event_date</th>\n",
       "      <th>won_toss_overtime_decision</th>\n",
       "    </tr>\n",
       "  </thead>\n",
       "  <tbody>\n",
       "    <tr>\n",
       "      <th>0</th>\n",
       "      <td>1</td>\n",
       "      <td>Sun</td>\n",
       "      <td>September 8</td>\n",
       "      <td>1:02PM ET</td>\n",
       "      <td>W</td>\n",
       "      <td>0</td>\n",
       "      <td>1-0</td>\n",
       "      <td>1</td>\n",
       "      <td>Buffalo Bills</td>\n",
       "      <td>23.0</td>\n",
       "      <td>...</td>\n",
       "      <td>NaN</td>\n",
       "      <td>55.0</td>\n",
       "      <td>a_turf</td>\n",
       "      <td>nwe</td>\n",
       "      <td>New England Patriots -10.5</td>\n",
       "      <td>11.0</td>\n",
       "      <td>65.0</td>\n",
       "      <td>193.0</td>\n",
       "      <td>2013-09-08</td>\n",
       "      <td>NaN</td>\n",
       "    </tr>\n",
       "    <tr>\n",
       "      <th>1</th>\n",
       "      <td>2</td>\n",
       "      <td>Thu</td>\n",
       "      <td>September 12</td>\n",
       "      <td>8:29PM ET</td>\n",
       "      <td>W</td>\n",
       "      <td>0</td>\n",
       "      <td>2-0</td>\n",
       "      <td>0</td>\n",
       "      <td>New York Jets</td>\n",
       "      <td>13.0</td>\n",
       "      <td>...</td>\n",
       "      <td>NaN</td>\n",
       "      <td>89.0</td>\n",
       "      <td>fieldturf</td>\n",
       "      <td>nwe</td>\n",
       "      <td>New England Patriots -11.5</td>\n",
       "      <td>8.0</td>\n",
       "      <td>72.0</td>\n",
       "      <td>204.0</td>\n",
       "      <td>2013-09-12</td>\n",
       "      <td>NaN</td>\n",
       "    </tr>\n",
       "    <tr>\n",
       "      <th>2</th>\n",
       "      <td>3</td>\n",
       "      <td>Sun</td>\n",
       "      <td>September 22</td>\n",
       "      <td>1:02PM ET</td>\n",
       "      <td>W</td>\n",
       "      <td>0</td>\n",
       "      <td>3-0</td>\n",
       "      <td>0</td>\n",
       "      <td>Tampa Bay Buccaneers</td>\n",
       "      <td>23.0</td>\n",
       "      <td>...</td>\n",
       "      <td>NaN</td>\n",
       "      <td>72.0</td>\n",
       "      <td>fieldturf</td>\n",
       "      <td>nwe</td>\n",
       "      <td>New England Patriots -7.5</td>\n",
       "      <td>9.0</td>\n",
       "      <td>65.0</td>\n",
       "      <td>179.0</td>\n",
       "      <td>2013-09-22</td>\n",
       "      <td>NaN</td>\n",
       "    </tr>\n",
       "    <tr>\n",
       "      <th>3</th>\n",
       "      <td>4</td>\n",
       "      <td>Sun</td>\n",
       "      <td>September 29</td>\n",
       "      <td>8:30PM ET</td>\n",
       "      <td>W</td>\n",
       "      <td>0</td>\n",
       "      <td>4-0</td>\n",
       "      <td>1</td>\n",
       "      <td>Atlanta Falcons</td>\n",
       "      <td>30.0</td>\n",
       "      <td>...</td>\n",
       "      <td>NaN</td>\n",
       "      <td>NaN</td>\n",
       "      <td>fieldturf</td>\n",
       "      <td>nwe</td>\n",
       "      <td>Atlanta Falcons -3.0</td>\n",
       "      <td>NaN</td>\n",
       "      <td>NaN</td>\n",
       "      <td>201.0</td>\n",
       "      <td>2013-09-29</td>\n",
       "      <td>NaN</td>\n",
       "    </tr>\n",
       "    <tr>\n",
       "      <th>4</th>\n",
       "      <td>5</td>\n",
       "      <td>Sun</td>\n",
       "      <td>October 6</td>\n",
       "      <td>1:02PM ET</td>\n",
       "      <td>L</td>\n",
       "      <td>0</td>\n",
       "      <td>4-1</td>\n",
       "      <td>1</td>\n",
       "      <td>Cincinnati Bengals</td>\n",
       "      <td>6.0</td>\n",
       "      <td>...</td>\n",
       "      <td>NaN</td>\n",
       "      <td>93.0</td>\n",
       "      <td>fieldturf</td>\n",
       "      <td>nwe</td>\n",
       "      <td>New England Patriots -1.0</td>\n",
       "      <td>7.0</td>\n",
       "      <td>68.0</td>\n",
       "      <td>176.0</td>\n",
       "      <td>2013-10-06</td>\n",
       "      <td>NaN</td>\n",
       "    </tr>\n",
       "  </tbody>\n",
       "</table>\n",
       "<p>5 rows × 48 columns</p>\n",
       "</div>"
      ],
      "text/plain": [
       "  week  day          date       time result  OT  rec  away  \\\n",
       "0    1  Sun   September 8  1:02PM ET      W   0  1-0     1   \n",
       "1    2  Thu  September 12  8:29PM ET      W   0  2-0     0   \n",
       "2    3  Sun  September 22  1:02PM ET      W   0  3-0     0   \n",
       "3    4  Sun  September 29  8:30PM ET      W   0  4-0     1   \n",
       "4    5  Sun     October 6  1:02PM ET      L   0  4-1     1   \n",
       "\n",
       "                    opp score_team  ... won_toss_overtime humidity_pct  \\\n",
       "0         Buffalo Bills       23.0  ...               NaN         55.0   \n",
       "1         New York Jets       13.0  ...               NaN         89.0   \n",
       "2  Tampa Bay Buccaneers       23.0  ...               NaN         72.0   \n",
       "3       Atlanta Falcons       30.0  ...               NaN          NaN   \n",
       "4    Cincinnati Bengals        6.0  ...               NaN         93.0   \n",
       "\n",
       "  surface_type team_abbr                 team_spread wind_speed temperature  \\\n",
       "0       a_turf       nwe  New England Patriots -10.5       11.0        65.0   \n",
       "1    fieldturf       nwe  New England Patriots -11.5        8.0        72.0   \n",
       "2    fieldturf       nwe   New England Patriots -7.5        9.0        65.0   \n",
       "3    fieldturf       nwe        Atlanta Falcons -3.0        NaN         NaN   \n",
       "4    fieldturf       nwe   New England Patriots -1.0        7.0        68.0   \n",
       "\n",
       "  duration  event_date won_toss_overtime_decision  \n",
       "0    193.0  2013-09-08                        NaN  \n",
       "1    204.0  2013-09-12                        NaN  \n",
       "2    179.0  2013-09-22                        NaN  \n",
       "3    201.0  2013-09-29                        NaN  \n",
       "4    176.0  2013-10-06                        NaN  \n",
       "\n",
       "[5 rows x 48 columns]"
      ]
     },
     "execution_count": 134,
     "metadata": {},
     "output_type": "execute_result"
    }
   ],
   "source": [
    "# Rename some columns to make them lowercase\n",
    "col_rename = {\n",
    "    'Week': 'week',\n",
    "    'Day': 'day',\n",
    "    'Date': 'date',\n",
    "    'Unnamed: 3_level_1': 'time',\n",
    "    'Rec': 'rec',\n",
    "    'Away': 'away',\n",
    "    'Opp': 'opp',\n",
    "    'Unnamed: 25': 'boxscore_stub',\n",
    "    'Unnamed: 26': 'boxscore_url'\n",
    "}\n",
    "\n",
    "teams_df = teams_df.rename(columns=col_rename)\n",
    "teams_df.head()"
   ]
  },
  {
   "cell_type": "code",
   "execution_count": 135,
   "id": "3acfefac-c771-42a8-80ea-a40a1795d5f9",
   "metadata": {},
   "outputs": [
    {
     "data": {
      "text/plain": [
       "<Axes: xlabel='Count', ylabel='week'>"
      ]
     },
     "execution_count": 135,
     "metadata": {},
     "output_type": "execute_result"
    },
    {
     "data": {
      "image/png": "[encoded data removed]",
      "text/plain": [
       "<Figure size 640x480 with 1 Axes>"
      ]
     },
     "metadata": {},
     "output_type": "display_data"
    }
   ],
   "source": [
    "sns.histplot(data=teams_df, y = \"week\")"
   ]
  },
  {
   "cell_type": "code",
   "execution_count": 78,
   "id": "f88fdca3-a05f-4c20-9324-858792bbb037",
   "metadata": {},
   "outputs": [
    {
     "data": {
      "text/plain": [
       "year  team_id\n",
       "2013  atl        9\n",
       "      buf        9\n",
       "      car        9\n",
       "      chi        9\n",
       "      cin        9\n",
       "                ..\n",
       "2023  sdg        9\n",
       "      sea        9\n",
       "      sfo        8\n",
       "      tam        9\n",
       "      was        9\n",
       "Name: week, Length: 352, dtype: object"
      ]
     },
     "execution_count": 78,
     "metadata": {},
     "output_type": "execute_result"
    }
   ],
   "source": [
    "teams_df.loc[teams_df['playoffs']==0,].groupby(['year', 'team_id'])['week'].apply(lambda x: max(x), include_groups=False)"
   ]
  },
  {
   "cell_type": "code",
   "execution_count": 136,
   "id": "a99ceee5-34e5-4dbb-955c-872905fd38e3",
   "metadata": {},
   "outputs": [],
   "source": [
    "# We'll add a counter in for number of games played in a season\n",
    "# Because we have the flag 'playoffs', we'll keep the week as numeric\n",
    "\n",
    "# Keep in mind there is a bye week, so week number doesn't always correspond with number of games played\n",
    "    \n",
    "teams_df['season_games_played'] = teams_df.groupby(['team_id', 'year']).cumcount()+1"
   ]
  },
  {
   "cell_type": "code",
   "execution_count": 137,
   "id": "cb306855-3bed-4266-96ef-d88756749937",
   "metadata": {},
   "outputs": [],
   "source": [
    "# temp save\n",
    "teams_df.to_csv(\"../data/teams.csv\")"
   ]
  },
  {
   "cell_type": "code",
   "execution_count": null,
   "id": "1aa60067-b63f-4017-b468-5e54faf04ec8",
   "metadata": {},
   "outputs": [],
   "source": []
  }
 ],
 "metadata": {
  "kernelspec": {
   "display_name": "Python 3 (ipykernel)",
   "language": "python",
   "name": "python3"
  },
  "language_info": {
   "codemirror_mode": {
    "name": "ipython",
    "version": 3
   },
   "file_extension": ".py",
   "mimetype": "text/x-python",
   "name": "python",
   "nbconvert_exporter": "python",
   "pygments_lexer": "ipython3",
   "version": "3.10.14"
  }
 },
 "nbformat": 4,
 "nbformat_minor": 5
}
